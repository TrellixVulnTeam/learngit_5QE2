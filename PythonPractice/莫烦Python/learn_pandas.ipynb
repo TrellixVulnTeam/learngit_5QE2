{
 "cells": [
  {
   "cell_type": "code",
   "execution_count": 5,
   "metadata": {},
   "outputs": [
    {
     "name": "stdout",
     "output_type": "stream",
     "text": [
      "     A          B    C  D      E    F\n",
      "0  1.0 2013-01-02  1.0  3   test  foo\n",
      "1  1.0 2013-01-02  1.0  3  train  foo\n",
      "2  1.0 2013-01-02  1.0  3   test  foo\n",
      "3  1.0 2013-01-02  1.0  3  train  foo\n",
      "     A          B    C  D      E    F\n",
      "3  1.0 2013-01-02  1.0  3  train  foo\n",
      "2  1.0 2013-01-02  1.0  3   test  foo\n",
      "1  1.0 2013-01-02  1.0  3  train  foo\n",
      "0  1.0 2013-01-02  1.0  3   test  foo\n",
      "     A          B    C  D      E    F\n",
      "0  1.0 2013-01-02  1.0  3   test  foo\n",
      "2  1.0 2013-01-02  1.0  3   test  foo\n",
      "1  1.0 2013-01-02  1.0  3  train  foo\n",
      "3  1.0 2013-01-02  1.0  3  train  foo\n"
     ]
    }
   ],
   "source": [
    "# 1.pandas基本接受\n",
    "#  numpy列表式序列化矩阵，没有数值标签\n",
    "#  pandas字典式矩阵，基于numpy构建, 主要两个数据结构：Series和DataFrame\n",
    "\n",
    "import pandas as pd\n",
    "import numpy as np\n",
    "\n",
    "# a = pd.Series([1, 2, 3, np.NaN, 4, 7])  # np.NaN\n",
    "# print(a)\n",
    "\n",
    "# print(pd.DataFrame(np.arange(12).reshape(3, 4)))\n",
    "\n",
    "# dates = pd.date_range('2019-1-1', periods=9)  # 日期序列\n",
    "# print(dates)\n",
    "# df = pd.DataFrame(np.random.randn(9, 5), index=dates, columns=['a', 'b', 'c', 'd', 'e'])  # radn(),按形状生成随机数矩阵\n",
    "# print(df)\n",
    "# print(df.T)\n",
    "# print(df.dtypes)\n",
    "# print(df.columns)\n",
    "# print(df.values)\n",
    "# print(df.describe())  # 数据总结\n",
    "\n",
    "df1 = pd.DataFrame({'A' : 1.,\n",
    "                    'B' : pd.Timestamp('20130102'),\n",
    "                    'C' : pd.Series(1,index=list(range(4)),dtype='float32'),\n",
    "                    'D' : np.array([3] * 4,dtype='int32'),\n",
    "                    'E' : pd.Categorical([\"test\",\"train\",\"test\",\"train\"]),\n",
    "                    'F' : 'foo'})\n",
    "print(df1)\n",
    "print(df1.sort_index(axis=0,  ascending=False))   # 根据索引降序\n",
    "print(df1.sort_values(by='E'))  \n"
   ]
  },
  {
   "cell_type": "code",
   "execution_count": 91,
   "metadata": {},
   "outputs": [
    {
     "name": "stdout",
     "output_type": "stream",
     "text": [
      "DatetimeIndex(['2001-01-01', '2001-01-02', '2001-01-03', '2001-01-04',\n",
      "               '2001-01-05', '2001-01-06', '2001-01-07'],\n",
      "              dtype='datetime64[ns]', freq='D')\n",
      "2001-01-01     0\n",
      "2001-01-02     4\n",
      "2001-01-03     8\n",
      "2001-01-04    12\n",
      "2001-01-05    16\n",
      "2001-01-06    20\n",
      "2001-01-07    24\n",
      "Freq: D, Name: a, dtype: int32 2001-01-01     1\n",
      "2001-01-02     5\n",
      "2001-01-03     9\n",
      "2001-01-04    13\n",
      "2001-01-05    17\n",
      "2001-01-06    21\n",
      "2001-01-07    25\n",
      "Freq: D, Name: b, dtype: int32\n",
      "            a  b  c  d\n",
      "2001-01-01  0  1  2  3\n",
      "2001-01-02  4  5  6  7 \n",
      "             a  b   c   d\n",
      "2001-01-01  0  1   2   3\n",
      "2001-01-02  4  5   6   7\n",
      "2001-01-03  8  9  10  11\n",
      "             b   c\n",
      "2001-01-02   5   6\n",
      "2001-01-03   9  10\n",
      "2001-01-04  13  14\n",
      "2001-01-05  17  18\n",
      "            b   d\n",
      "2001-01-02  5   7\n",
      "2001-01-03  9  11 \n",
      "\n",
      "              b   d\n",
      "2001-01-02   5   7\n",
      "2001-01-04  13  15\n",
      "             a   b   c   d\n",
      "2001-01-04  12  13  14  15\n",
      "2001-01-05  16  17  18  19\n",
      "2001-01-06  20  21  22  23\n",
      "2001-01-07  24  25  26  27\n"
     ]
    }
   ],
   "source": [
    "\n",
    "#  2.选择数据\n",
    "dates2 = pd.date_range('2001.1.1', periods=7)\n",
    "print(dates2)\n",
    "\n",
    "df2 = pd.DataFrame(np.arange(28).reshape(7, 4), index=dates2, columns=['a', 'b', 'c', 'd'])  # 指定4行，7列\n",
    "print(df2['a'], df2.b)\n",
    "print(df2[:2],'\\n', df2['2001.1.1':'2001.1.3'])   # 简单取键只支持行\n",
    "\n",
    "\n",
    "# 根据loc  根据标签选择\n",
    "print(df2.loc['2001.1.2':'2001.1.5', 'b':'c'])\n",
    "\n",
    "# 根据序列 iloc ,根据索引位置， 选某一个，连续选或者跨行选等操作。\n",
    "print(df2.iloc[1:3, [1, 3]], '\\n\\n', df2.iloc[[1, 3], [1, 3]] )\n",
    "\n",
    "# 通过判断\n",
    "print(df2[df2.a > 8])  #  'a'列中值大于8的行"
   ]
  },
  {
   "cell_type": "code",
   "execution_count": 115,
   "metadata": {},
   "outputs": [
    {
     "name": "stdout",
     "output_type": "stream",
     "text": [
      "             a   b   c   d   e\n",
      "2019-01-01   0   1   2   3   4\n",
      "2019-01-02   5   6   7   8   9\n",
      "2019-01-03  10  11  12  13  14\n",
      "2019-01-04  15  16  17  18  19\n",
      "2019-01-05  20  21  22  23  24\n",
      "                a   b    c   d    e    f\n",
      "2019-01-01      0   1    2 NaN    4  0.0\n",
      "2019-01-02      5   6    7 NaN  444  0.0\n",
      "2019-01-03     10  11  222 NaN   14  0.0\n",
      "2019-01-04     15  16   17 NaN   19  0.0\n",
      "2019-01-05  55555  21   22 NaN   24  0.0\n"
     ]
    },
    {
     "name": "stderr",
     "output_type": "stream",
     "text": [
      "S:\\Anaconda\\lib\\site-packages\\ipykernel_launcher.py:7: SettingWithCopyWarning: \n",
      "A value is trying to be set on a copy of a slice from a DataFrame\n",
      "\n",
      "See the caveats in the documentation: http://pandas.pydata.org/pandas-docs/stable/indexing.html#indexing-view-versus-copy\n",
      "  import sys\n"
     ]
    }
   ],
   "source": [
    "# 3.pandas 设置值\n",
    "df3 = pd.DataFrame(np.arange(25).reshape(5, 5), index=pd.date_range('20190101', periods=5), columns=['a', 'b', 'c', 'd', 'e' ])\n",
    "print(df3)\n",
    "df3.iloc[2,2] = 222  # 不是用iloc 会加一个标签列\n",
    "df3.loc['20190102', 'e'] = 444\n",
    "df3.d = np.nan\n",
    "df3.a[df3.a > 15] = 55555\n",
    "df3['f'] = pd.Series(np.zeros((5, )), index=pd.date_range('20190101', periods=5)) # 等于合并一个纵向矩阵\n",
    "print(df3)"
   ]
  },
  {
   "cell_type": "code",
   "execution_count": 142,
   "metadata": {},
   "outputs": [
    {
     "name": "stdout",
     "output_type": "stream",
     "text": [
      "                   1         2         3         4\n",
      "2001-10-01  0.149759 -0.848518 -1.040214  0.173916\n",
      "2001-10-02  0.514964 -0.217277  0.651159 -1.153114\n",
      "2001-10-03 -0.100755 -0.379902       NaN  0.423365\n",
      "2001-10-04       NaN       NaN       NaN       NaN\n",
      "2001-10-05 -0.060351 -1.418219  1.042274  2.050855\n",
      "                   1         2         3         4\n",
      "2001-10-01  0.149759 -0.848518 -1.040214  0.173916\n",
      "2001-10-02  0.514964 -0.217277  0.651159 -1.153114\n",
      "2001-10-05 -0.060351 -1.418219  1.042274  2.050855\n",
      "                    1          2          3          4\n",
      "2001-10-01   0.149759  -0.848518  -1.040214   0.173916\n",
      "2001-10-02   0.514964  -0.217277   0.651159  -1.153114\n",
      "2001-10-03  -0.100755  -0.379902  99.000000   0.423365\n",
      "2001-10-04  99.000000  99.000000  99.000000  99.000000\n",
      "2001-10-05  -0.060351  -1.418219   1.042274   2.050855\n",
      "                1      2      3      4\n",
      "2001-10-01  False  False  False  False\n",
      "2001-10-02  False  False  False  False\n",
      "2001-10-03  False  False   True  False\n",
      "2001-10-04   True   True   True   True\n",
      "2001-10-05  False  False  False  False\n",
      "True\n"
     ]
    }
   ],
   "source": [
    "#  4.处理丢失数据\n",
    "#  有时候我们导入或处理数据, 会产生一些空的或者是 NaN 数据\n",
    "df4 = pd.DataFrame(np.random.randn(5, 4), index=pd.date_range('100101', periods=5), columns=['1', '2', '3', '4'])\n",
    "df4.iloc[2, 2] = np.nan\n",
    "df4.iloc[3,:] = np.nan\n",
    "print(df4)\n",
    "print(df4.dropna(axis=0, how='any')) # 从行/列找，以何种方式丢弃行/列   any有一个， \n",
    "print(df4.fillna(value=99))  # 填充\n",
    "print(df4.isnull()) # 判断是否有缺失数据 NaN\n",
    "print(np.any(df4.isnull()))"
   ]
  },
  {
   "cell_type": "code",
   "execution_count": 153,
   "metadata": {},
   "outputs": [
    {
     "name": "stdout",
     "output_type": "stream",
     "text": [
      "    Student ID  name   age  gender\n",
      "0         1100  Kelly   22  Female\n",
      "1         1101    Clo   21  Female\n",
      "2         1102  Tilly   22  Female\n",
      "3         1103   Tony   24    Male\n",
      "4         1104  David   20    Male\n",
      "5         1105  Catty   22  Female\n",
      "6         1106      M    3  Female\n",
      "7         1107      N   43    Male\n",
      "8         1108      A   13    Male\n",
      "9         1109      S   12    Male\n",
      "10        1110  David   33    Male\n",
      "11        1111     Dw    3  Female\n",
      "12        1112      Q   23    Male\n",
      "13        1113      W   21  Female\n"
     ]
    }
   ],
   "source": [
    "# 5.导入导出  \n",
    "#  pandas可以读取与存取的资料格式有很多种，像csv、excel、json、html与pickle等…， 详细请看官方说明文件\n",
    "# read form\n",
    "data = pd.read_csv(r'C:\\Users\\yl\\Desktop\\student.csv')\n",
    "print(data)\n",
    "# save to\n",
    "data.to_pickle(r'C:\\Users\\yl\\Desktop\\student.pickle')"
   ]
  },
  {
   "cell_type": "code",
   "execution_count": 31,
   "metadata": {},
   "outputs": [
    {
     "name": "stdout",
     "output_type": "stream",
     "text": [
      "     a    b    c\n",
      "2  1.0  1.0  1.0\n",
      "3  1.0  1.0  1.0\n",
      "4  1.0  1.0  1.0\n",
      "5  1.0  1.0  1.0\n",
      "1  0.0  0.0  0.0\n",
      "3  0.0  0.0  0.0\n",
      "4  0.0  0.0  0.0\n",
      "5  0.0  0.0  0.0\n",
      "     a    b    c    f\n",
      "2  1.0  1.0  1.0  NaN\n",
      "3  1.0  1.0  1.0  NaN\n",
      "4  1.0  1.0  1.0  NaN\n",
      "5  1.0  1.0  1.0  NaN\n",
      "1  0.0  0.0  0.0  0.0\n",
      "3  0.0  0.0  0.0  0.0\n",
      "4  0.0  0.0  0.0  0.0\n",
      "5  0.0  0.0  0.0  0.0\n"
     ]
    }
   ],
   "source": [
    "# 6.合并concat\n",
    "df6a = pd.DataFrame(np.ones((4, 4))*0, columns=['a', 'b', 'c', 'd'])\n",
    "df6b = pd.DataFrame(np.ones((4, 4))*1, columns=['a', 'b', 'c', 'd'])\n",
    "df6c = pd.DataFrame(np.ones((4, 4))*2, columns=['a', 'b', 'c', 'd'])\n",
    "# print(df6a)\n",
    "# print(df6b)\n",
    "# print(df6c)\n",
    "# print(pd.concat([df6a, df6b, df6c], axis=0, ignore_index=True)) #  axis竖向/横向合并\n",
    "# print(df6a.append(df6b, ignore_index=True))  #  添加数据，只有纵向合并\n",
    "df6a = pd.DataFrame(np.ones((4, 4))*0, index=[1, 3, 4, 5], columns=['a', 'b', 'c', 'f'])\n",
    "df6b = pd.DataFrame(np.ones((4, 4))*1, index=[2, 3, 4, 5],columns=['a', 'b', 'c', 'd'])\n",
    "print(pd.concat([df6b, df6a], join='inner'))  # join合并方式 inner/outer\n",
    "print(pd.concat([df6b, df6a], join_axes=[df6a.columns], axis=0)) # 依照axes合并"
   ]
  },
  {
   "cell_type": "code",
   "execution_count": 52,
   "metadata": {},
   "outputs": [
    {
     "name": "stdout",
     "output_type": "stream",
     "text": [
      "  key   A   B\n",
      "0  K0  A0  B0\n",
      "1  K1  A1  B1\n",
      "2  K2  A2  B2\n",
      "3  K3  A3  B3 \n",
      "   key   C   D\n",
      "0  K0  C0  D0\n",
      "1  K1  C1  D1\n",
      "2  K2  C2  D2\n",
      "3  K3  C3  D3\n",
      "  key   A   B   C   D\n",
      "0  K0  A0  B0  C0  D0\n",
      "1  K1  A1  B1  C1  D1\n",
      "2  K2  A2  B2  C2  D2\n",
      "3  K3  A3  B3  C3  D3\n",
      "  key1 key2    A    B    C    D   merge_way\n",
      "0   K0   K0   A0   B0   C0   D0        both\n",
      "1   K0   K1   A1   B1  NaN  NaN   left_only\n",
      "2   K1   K0   A2   B2   C1   D1        both\n",
      "3   K1   K0   A2   B2   C2   D2        both\n",
      "4   K2   K1   A3   B3  NaN  NaN   left_only\n",
      "5   K2   K0  NaN  NaN   C3   D3  right_only\n",
      "      A    B    C    D   merge_way\n",
      "K0   A0   B0   C0   D0        both\n",
      "K1   A1   B1  NaN  NaN   left_only\n",
      "K2   A2   B2   C2   D2        both\n",
      "K3  NaN  NaN   C3   D3  right_only\n",
      "    k  age_boy  age_girl\n",
      "0  K0        1         4\n",
      "1  K0        1         5\n"
     ]
    }
   ],
   "source": [
    "# 7.合并merge\n",
    "\"\"\"\n",
    "参数：on, how, indicator\n",
    "\n",
    "\"\"\"\n",
    "# 依据一组key合并\n",
    "left = pd.DataFrame({'key': ['K0', 'K1', 'K2', 'K3'],\n",
    "                             'A': ['A0', 'A1', 'A2', 'A3'],\n",
    "                             'B': ['B0', 'B1', 'B2', 'B3']})\n",
    "right = pd.DataFrame({'key': ['K0', 'K1', 'K2', 'K3'],\n",
    "                              'C': ['C0', 'C1', 'C2', 'C3'],\n",
    "                              'D': ['D0', 'D1', 'D2', 'D3']})\n",
    "print(left,'\\n' , right)\n",
    "print(pd.merge(left, right, on='key'))\n",
    "# 依据两组key合并，合并时有4种方法how = ['left', 'right', 'outer', 'inner']，预设值how='inner'。\n",
    "left = pd.DataFrame({'key1': ['K0', 'K0', 'K1', 'K2'],\n",
    "                      'key2': ['K0', 'K1', 'K0', 'K1'],\n",
    "                      'A': ['A0', 'A1', 'A2', 'A3'],\n",
    "                      'B': ['B0', 'B1', 'B2', 'B3']})\n",
    "right = pd.DataFrame({'key1': ['K0', 'K1', 'K1', 'K2'],\n",
    "                       'key2': ['K0', 'K0', 'K0', 'K0'],\n",
    "                       'C': ['C0', 'C1', 'C2', 'C3'],\n",
    "                       'D': ['D0', 'D1', 'D2', 'D3']})\n",
    "print(pd.merge(left, right, on=['key1', 'key2'], how='outer', indicator='merge_way'))  # indicator=True会将合并的记录放在新的一列。\n",
    "# 依据index合并 \n",
    "left = pd.DataFrame({'A': ['A0', 'A1', 'A2'],\n",
    "                     'B': ['B0', 'B1', 'B2']},\n",
    "                     index=['K0', 'K1', 'K2'])\n",
    "right = pd.DataFrame({'C': ['C0', 'C2', 'C3'],\n",
    "                      'D': ['D0', 'D2', 'D3']},\n",
    "                     index=['K0', 'K2', 'K3'])\n",
    "print(pd.merge(left, right, left_index=True, right_index=True, how='outer', indicator='merge_way'))\n",
    "# overlapping的问题\n",
    "boys = pd.DataFrame({'k': ['K0', 'K1', 'K2'], 'age': [1, 2, 3]})\n",
    "girls = pd.DataFrame({'k': ['K0', 'K0', 'K3'], 'age': [4, 5, 6]})\n",
    "print(pd.merge(boys, girls, on='k', suffixes=['_boy', '_girl']))"
   ]
  },
  {
   "cell_type": "code",
   "execution_count": 73,
   "metadata": {},
   "outputs": [
    {
     "data": {
      "image/png": "[encoded data removed]",
      "text/plain": [
       "<Figure size 432x288 with 1 Axes>"
      ]
     },
     "metadata": {
      "needs_background": "light"
     },
     "output_type": "display_data"
    },
    {
     "name": "stdout",
     "output_type": "stream",
     "text": [
      "None\n"
     ]
    }
   ],
   "source": [
    "# 8. plot 出图 （数据可视化）\n",
    "\"\"\"\n",
    "bar\n",
    "hist\n",
    "box\n",
    "kde\n",
    "area\n",
    "scatter\n",
    "hexbin\n",
    "\"\"\"\n",
    "\n",
    "import matplotlib.pyplot as plt\n",
    "\n",
    "# data = pd.Series(np.random.randn(100), index=np.arange(100))\n",
    "data = pd.DataFrame(np.random.randn(100, 4), index=np.arange(100), columns=list(\"abcd\")) # randn 生成随机矩阵\n",
    "\n",
    "data.cumsum()\n",
    "data.plot()\n",
    "\n",
    "print(plt.show())\n",
    "\n",
    "ax = data.plot.scatter(x='a',y='c', color='DarkBlue', label='one')\n",
    "data.plot.scatter(x='b',y='d', color='DarkRed', ax=ax, label='two')\n",
    "\n",
    "data.plot()\n",
    "\n",
    "print(plt.show())"
   ]
  },
  {
   "cell_type": "code",
   "execution_count": null,
   "metadata": {},
   "outputs": [],
   "source": []
  },
  {
   "cell_type": "code",
   "execution_count": null,
   "metadata": {},
   "outputs": [],
   "source": []
  }
 ],
 "metadata": {
  "kernelspec": {
   "display_name": "Python 3",
   "language": "python",
   "name": "python3"
  }
 },
 "nbformat": 4,
 "nbformat_minor": 2
}
