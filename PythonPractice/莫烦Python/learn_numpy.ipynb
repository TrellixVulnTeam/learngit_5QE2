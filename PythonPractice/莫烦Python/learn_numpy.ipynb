{
 "cells": [
  {
   "cell_type": "code",
   "execution_count": 3,
   "metadata": {},
   "outputs": [
    {
     "name": "stdout",
     "output_type": "stream",
     "text": [
      "[[1 2 3]\n",
      " [4 5 6]]\n",
      "number of dim(维度): 2\n",
      "shape: (2, 3)\n",
      "size: 6\n"
     ]
    }
   ],
   "source": [
    "# 2.numpy属性\n",
    "import numpy as np\n",
    "array = np.array([[1, 2, 3],\n",
    "                 [4, 5, 6]])\n",
    "print(array)\n",
    "print('number of dim(维度):', array.ndim)\n",
    "print('shape:', array.shape)\n",
    "print('size:', array.size)"
   ]
  },
  {
   "cell_type": "code",
   "execution_count": 4,
   "metadata": {},
   "outputs": [
    {
     "name": "stdout",
     "output_type": "stream",
     "text": [
      "int32\n",
      "[[0. 0.]\n",
      " [0. 0.]]\n",
      "[[1. 1. 1.]\n",
      " [1. 1. 1.]\n",
      " [1. 1. 1.]]\n",
      "[[0. 0. 0.]\n",
      " [0. 0. 0.]]\n",
      "[[ 1  3]\n",
      " [ 5  7]\n",
      " [ 9 11]]\n",
      "[[ 1.   3.4  5.8]\n",
      " [ 8.2 10.6 13. ]]\n"
     ]
    }
   ],
   "source": [
    "# 3.array的基本用法\n",
    "\n",
    "a = np.array([2, 3, 4, 6], dtype=np.int)  # 默认int64， int32, float64\n",
    "print(a.dtype)\n",
    "\n",
    "# arrary \n",
    "print(np.zeros((2, 2)))\n",
    "print(np.ones((3, 3)))\n",
    "print(np.empty((2, 3)))\n",
    "\n",
    "print(np.arange(1, 13, 2).reshape(3, 2))  # 数列\n",
    "\n",
    "print(np.linspace(1, 13, 6).reshape((2, 3)))  # 一条直线上取线段"
   ]
  },
  {
   "cell_type": "code",
   "execution_count": 4,
   "metadata": {},
   "outputs": [
    {
     "name": "stdout",
     "output_type": "stream",
     "text": [
      "[2 4 6]\n",
      "[0.84147098 0.90929743 0.14112001] [ 0.54030231 -0.41614684 -0.9899925 ] [ 1.55740772 -2.18503986 -0.14254654]\n",
      "[ True False False]\n",
      "[1 4 9]\n",
      "[1 4 9] 14\n",
      "[[0.13453939 0.86338571 0.09488279]\n",
      " [0.80073374 0.41248989 0.80986727]] \n",
      " [1.0928079 2.0230909] [0.80073374 0.86338571 0.80986727] [0.09488279 0.41248989]\n"
     ]
    }
   ],
   "source": [
    "# 5-6. 基础运算\n",
    "\n",
    "a = np.array([1, 2, 3])\n",
    "b = np.arange(1, 4)\n",
    "print(a + b)\n",
    "print(np.sin(a), np.cos(a), np.tan(a))\n",
    "print(a < 2)\n",
    "print(a**2)\n",
    "# 逐个、矩阵乘法\n",
    "c = a*b\n",
    "c_dot = np.dot(a, b)\n",
    "c_dot_2 = a.dot(b)\n",
    "print(c, c_dot)\n",
    "ran = np.random.random((2,3)) # 随机\n",
    "print(ran, '\\n', np.sum(ran, axis=1), np.max(ran, axis=0), np.min(ran, axis=1))  # axis=1 行求值， axis=0 列求值  axis用于行、列单独计算"
   ]
  },
  {
   "cell_type": "code",
   "execution_count": 86,
   "metadata": {},
   "outputs": [
    {
     "name": "stdout",
     "output_type": "stream",
     "text": [
      "14\n",
      "[2 2 3]\n"
     ]
    }
   ],
   "source": [
    "\n",
    "print(np.argmin(a), np.argmax(a), a.mean(), np.average(a), np.median(a), a.cumsum(), np.diff(a), np.nonzero(a), np.sort(a))  # 累差，累加\n",
    "\n",
    "# 矩阵反向\n",
    "print(b.T.dot(b))\n",
    "print(np.clip(a, 2, 3))  # 保留2，3之间的数"
   ]
  },
  {
   "cell_type": "code",
   "execution_count": 17,
   "metadata": {},
   "outputs": [
    {
     "name": "stdout",
     "output_type": "stream",
     "text": [
      "[[ 3  4  5  6]\n",
      " [ 7  8  9 10]\n",
      " [11 12 13 14]] 8\n",
      "[[ 4  5]\n",
      " [ 8  9]\n",
      " [12 13]] \n",
      " [[ 7  8  9 10]\n",
      " [11 12 13 14]]\n",
      "[ 3  7 11]\n",
      "[ 4  8 12]\n",
      "[ 5  9 13]\n",
      "[ 6 10 14]\n",
      "****************************************\n",
      "[ 3  4  5  6  7  8  9 10 11 12 13 14]\n",
      "3\n",
      "4\n",
      "5\n",
      "6\n",
      "7\n",
      "8\n",
      "9\n",
      "10\n",
      "11\n",
      "12\n",
      "13\n",
      "14\n"
     ]
    }
   ],
   "source": [
    "# 7. 索引\n",
    "# 取行，列\n",
    "aa = np.arange(3, 15).reshape(3, 4)\n",
    "\n",
    "print(aa, aa[1][1])\n",
    "\n",
    "print(aa[:,1:3],'\\n', aa[1:3, :])# 第一列， 第1到3列 \n",
    "\n",
    "# for循环迭代行，列\n",
    "for column in aa.T:\n",
    "    print(column)\n",
    "\n",
    "print('*' * 40)\n",
    "print(aa.flatten())\n",
    "for item in aa.flat:\n",
    "    print(item)"
   ]
  },
  {
   "cell_type": "code",
   "execution_count": null,
   "metadata": {},
   "outputs": [],
   "source": [
    "#  8.numpy的array合并\n",
    "\n",
    "A = np.array([1, 1, 1])\n",
    "B = np.array([2, 2, 2])\n",
    "print('垂直合并:\\n', np.vstack((A, B)) )\n",
    "print('水平合并:\\n', np.hstack((A, B)) )\n",
    "# print('水平合并:\\t', np.hstack((A, B))\n",
    "\n",
    "# 横向序列变为纵向序列\n",
    "# print(A.T)\n",
    "A = A[:,np.newaxis]\n",
    "# print('改变维度：\\n', A)\n",
    "# 多个按维度合并\n",
    "print(np.concatenate((A,A,A), axis=1))"
   ]
  },
  {
   "cell_type": "code",
   "execution_count": null,
   "metadata": {},
   "outputs": [],
   "source": [
    "# 9.numpy的array分割\n",
    "\n",
    "A9 = np.arange(12).reshape((3, 4))\n",
    "print(A9)\n",
    "# print(np.split(A9, 3 ,axis=0))\n",
    "# print(np.split(A9, 2 ,axis=1))\n",
    "print(np.vsplit(A9, 3))  # 水平\n",
    "print(np.hsplit(A9, 2))  # 垂直"
   ]
  },
  {
   "cell_type": "code",
   "execution_count": 9,
   "metadata": {},
   "outputs": [
    {
     "name": "stdout",
     "output_type": "stream",
     "text": [
      "[0 1 2 3 4 5 6 7 8 9] [0 1 2 3 4 5 6 7 8 9] \n",
      "a == b: True\n",
      "c is a: False [0 1 2 3 4 5 6 7 8 9]\n"
     ]
    }
   ],
   "source": [
    "# 10.copy & deepcopy\n",
    "a10 = np.arange(10)\n",
    "b10 = a10\n",
    "c10 = a10.copy()\n",
    "print(a10, b10, '\\na == b:', a10 is b10)\n",
    "print('c is a:', a10 is c10, c10)\n"
   ]
  },
  {
   "cell_type": "code",
   "execution_count": null,
   "metadata": {},
   "outputs": [],
   "source": [
    "# "
   ]
  }
 ],
 "metadata": {
  "kernelspec": {
   "display_name": "Python 3",
   "language": "python",
   "name": "python3"
  },
  "language_info": {
   "codemirror_mode": {
    "name": "ipython",
    "version": 3
   },
   "file_extension": ".py",
   "mimetype": "text/x-python",
   "name": "python",
   "nbconvert_exporter": "python",
   "pygments_lexer": "ipython3",
   "version": "3.7.1"
  }
 },
 "nbformat": 4,
 "nbformat_minor": 2
}
